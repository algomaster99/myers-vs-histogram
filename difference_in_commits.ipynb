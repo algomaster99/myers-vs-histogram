{
 "cells": [
  {
   "cell_type": "markdown",
   "metadata": {},
   "source": [
    "# Setup"
   ]
  },
  {
   "cell_type": "code",
   "execution_count": 1,
   "metadata": {},
   "outputs": [],
   "source": [
    "import os, subprocess, re"
   ]
  },
  {
   "cell_type": "code",
   "execution_count": 2,
   "metadata": {},
   "outputs": [],
   "source": [
    "# Function to execute git commands\n",
    "def execute_command(cmd, work_dir):\n",
    "    pipe = subprocess.Popen(cmd, shell=True, cwd=work_dir, stdout=subprocess.PIPE, stderr=subprocess.PIPE)\n",
    "    (out, error) = pipe.communicate()\n",
    "    if error:\n",
    "        return error\n",
    "    return out\n",
    "    pipe.wait()"
   ]
  },
  {
   "cell_type": "markdown",
   "metadata": {},
   "source": [
    "## Getting all commit hashes from Butterknife"
   ]
  },
  {
   "cell_type": "code",
   "execution_count": 3,
   "metadata": {},
   "outputs": [],
   "source": [
    "userhome = os.path.expanduser('~')\n",
    "project = 'butterknife'\n",
    "repository = f'{userhome}/Desktop/diff/datasource/{project}'"
   ]
  },
  {
   "cell_type": "code",
   "execution_count": 4,
   "metadata": {},
   "outputs": [],
   "source": [
    "git_cmd = 'git log --pretty=format:\"%H\"'\n",
    "log = execute_command(git_cmd, repository)\n",
    "list_of_all_commits = log.decode('utf-8').split('\\n')[180:] # Get the first 836 commits\n",
    "total_commits = len(list_of_all_commits)"
   ]
  },
  {
   "cell_type": "markdown",
   "metadata": {},
   "source": [
    "# Task 1: Compare NLA and NLD"
   ]
  },
  {
   "cell_type": "markdown",
   "metadata": {},
   "source": [
    "## Utility to count number of added or deleted lines between commits"
   ]
  },
  {
   "cell_type": "code",
   "execution_count": 5,
   "metadata": {},
   "outputs": [],
   "source": [
    "def count_no_of_lines(commit, parent_commit, algorithm, sign, repository):\n",
    "    git_cmd = (\n",
    "        f'git diff -w --ignore-blank-lines --diff-algorithm={algorithm} {commit} {parent_commit} | '\n",
    "        f'grep \\'^[{sign}]\\' | '\n",
    "        f'grep -Ev \\'^(--- a/|\\+\\+\\+ b/)\\' | '\n",
    "        f'wc -l'\n",
    "    )\n",
    "    return execute_command(git_cmd, repository)"
   ]
  },
  {
   "cell_type": "markdown",
   "metadata": {},
   "source": [
    "## Compare differences in NLA and NLD for the two algorithms specified"
   ]
  },
  {
   "cell_type": "code",
   "execution_count": 6,
   "metadata": {},
   "outputs": [],
   "source": [
    "MYERS = 'myers'\n",
    "HISTOGRAM = 'histogram'"
   ]
  },
  {
   "cell_type": "code",
   "execution_count": 7,
   "metadata": {},
   "outputs": [],
   "source": [
    "diff_commits = 0 # stores the number of different commits\n",
    "for parent_commit in range(len(list_of_all_commits)-1,1,-1):\n",
    "    # parent commit hash\n",
    "    parent_commit_hash = list_of_all_commits[parent_commit]\n",
    "    # commit hash\n",
    "    commit_hash = list_of_all_commits[parent_commit-1]\n",
    "    # NLA: Myers\n",
    "    nla_from_myers = int(count_no_of_lines(commit_hash, parent_commit_hash, MYERS, '+', repository).decode('utf-8'))\n",
    "    # NLA: Histogram\n",
    "    nla_from_histogram = int(count_no_of_lines(commit_hash, parent_commit_hash, HISTOGRAM, '+', repository).decode('utf-8'))\n",
    "    # NLD: Myers\n",
    "    nld_from_myers = int(count_no_of_lines(commit_hash, parent_commit_hash, MYERS, '-', repository).decode('utf-8'))\n",
    "    # NLD: Histogram\n",
    "    nld_from_histogram = int(count_no_of_lines(commit_hash, parent_commit_hash, HISTOGRAM, '-', repository).decode('utf-8'))\n",
    "    if nla_from_histogram != nla_from_myers and nld_from_histogram != nld_from_myers:\n",
    "        diff_commits += 1"
   ]
  },
  {
   "cell_type": "markdown",
   "metadata": {},
   "source": [
    "## Results"
   ]
  },
  {
   "cell_type": "code",
   "execution_count": 8,
   "metadata": {},
   "outputs": [
    {
     "name": "stdout",
     "output_type": "stream",
     "text": [
      "Total Commits: 836 Difference: 36\n",
      "%Different: 4.30622009569378\n"
     ]
    }
   ],
   "source": [
    "print(f'Total Commits: {total_commits} Difference: {diff_commits}')\n",
    "print(f'%Different: {diff_commits/total_commits * 100}')"
   ]
  },
  {
   "cell_type": "markdown",
   "metadata": {},
   "source": [
    "# Task 2: Compare location of changes"
   ]
  },
  {
   "cell_type": "markdown",
   "metadata": {},
   "source": [
    "## Get formatted diffs between commits"
   ]
  },
  {
   "cell_type": "code",
   "execution_count": 9,
   "metadata": {},
   "outputs": [],
   "source": [
    "def parse_line_and_number(parent_commit_hash, commit_hash, algorithm):\n",
    "    git_cmd = (\n",
    "        f'git diff -w --ignore-blank-lines --diff-algorithm={algorithm} {parent_commit_hash} {commit_hash} | '\n",
    "        'grep -P \\'(^\\+(?!\\+{2})|^-(?!-{2})|^@{2}|^\\s)\\''\n",
    "    )\n",
    "    diff = execute_command(git_cmd, repository)\n",
    "    return diff.decode('utf-8').split('\\n')"
   ]
  },
  {
   "cell_type": "code",
   "execution_count": 10,
   "metadata": {},
   "outputs": [],
   "source": [
    "def get_changes(parent_commit_hash, commit_hash, algorithm):\n",
    "    lines = parse_line_and_number(parent_commit_hash,commit_hash, algorithm)\n",
    "    start = -1\n",
    "    additions = -1\n",
    "    d_add = {}\n",
    "    d_del = {}\n",
    "    for line in lines:\n",
    "        if line == '':\n",
    "            continue\n",
    "        if re.search(r'(?<=(@@) )(.*)(?= (@@))', line) is not None:\n",
    "            changes = re.search(r'(?<=(@@) )(.*)(?= (@@))', line).group()\n",
    "            extract_line_additons = re.search(r'(?<=\\+).*', changes).group()\n",
    "            start = extract_line_additons.split(',')[0]\n",
    "            start = int(start) # get the starting line of changes in a block\n",
    "        elif line[0] == '+': # store added line\n",
    "            d_add[start] = line\n",
    "        elif line[0] == '-': # store deleted line\n",
    "            d_del[start] = line\n",
    "        start+=1\n",
    "    return d_add, d_del"
   ]
  },
  {
   "cell_type": "markdown",
   "metadata": {},
   "source": [
    "## Compare the lines and their numbers"
   ]
  },
  {
   "cell_type": "code",
   "execution_count": 11,
   "metadata": {},
   "outputs": [],
   "source": [
    "diff_commits = 0 # stores the number of different commits\n",
    "for parent_commit in range(len(list_of_all_commits)-1,1,-1):\n",
    "    # parent commit hash\n",
    "    parent_commit_hash = list_of_all_commits[parent_commit]\n",
    "    # commit hash\n",
    "    commit_hash = list_of_all_commits[parent_commit-1]\n",
    "    # location of added and deleted lines in myers' output\n",
    "    ma, md = get_changes(parent_commit_hash, commit_hash, MYERS)\n",
    "    # location of added and deleted lines in histogram's output\n",
    "    ha, hd = get_changes(parent_commit_hash, commit_hash, HISTOGRAM)\n",
    "    if ma != ha and md != hd: # compare locations deeply\n",
    "        diff_commits += 1"
   ]
  },
  {
   "cell_type": "markdown",
   "metadata": {},
   "source": [
    "## Results"
   ]
  },
  {
   "cell_type": "code",
   "execution_count": 12,
   "metadata": {},
   "outputs": [
    {
     "name": "stdout",
     "output_type": "stream",
     "text": [
      "Total Commits: 836 Difference: 49\n",
      "%Different: 5.861244019138756\n"
     ]
    }
   ],
   "source": [
    "print(f'Total Commits: {total_commits} Difference: {diff_commits}')\n",
    "print(f'%Different: {diff_commits/total_commits * 100}')"
   ]
  }
 ],
 "metadata": {
  "kernelspec": {
   "display_name": "Python 3",
   "language": "python",
   "name": "python3"
  },
  "language_info": {
   "codemirror_mode": {
    "name": "ipython",
    "version": 3
   },
   "file_extension": ".py",
   "mimetype": "text/x-python",
   "name": "python",
   "nbconvert_exporter": "python",
   "pygments_lexer": "ipython3",
   "version": "3.8.5"
  }
 },
 "nbformat": 4,
 "nbformat_minor": 4
}
